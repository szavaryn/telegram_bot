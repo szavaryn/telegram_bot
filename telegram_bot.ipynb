{
 "cells": [
  {
   "cell_type": "markdown",
   "id": "d6a53c2f",
   "metadata": {},
   "source": [
    "# The Issue Description"
   ]
  },
  {
   "cell_type": "markdown",
   "id": "d0d7423a",
   "metadata": {},
   "source": [
    "Over fifty thousands people in Belarus have been arrested during last two years due to their political position. Even now dozens are appeared in prison every day. Police never tells names of apprehended as well as any details related to current status and location of prisoners. In this case your family and friends wouldn't know even where you are.\n",
    "\n",
    "Since 08.2020 huge number of volunteers have been collecting the information and regularly post it in Telegram channels. Almost every day lists with data of recently arrested people are published. \n",
    "\n",
    "Sometimes you take a look at such lists and attempt to find someone whom is known for you: relatives, friends, colleagues, schoolmates, etc. It could be extremely useful in case if you are able to sent some food and clothes or help somehow the prisoner's family.\n",
    "\n",
    "I've created fast solution of very simple Telegram bot for matching data row per row by names and surnames:\n",
    "- You need to list surname, name, patronymic and birth year of all persons you are interested in to separate .csv;\n",
    "- Upload it to local database;\n",
    "- Forward a message from Telegram channels of volunteers to the bot;\n",
    "- Notice the result: the pairs of matched rows, one from your list and another from list of prisoners. "
   ]
  },
  {
   "cell_type": "markdown",
   "id": "5a75ebae",
   "metadata": {},
   "source": [
    "# Data Preparation"
   ]
  },
  {
   "cell_type": "code",
   "execution_count": 4,
   "id": "25a5837b",
   "metadata": {},
   "outputs": [],
   "source": [
    "import sqlite3 as sl\n",
    "import pandas as pd\n",
    "import typing as tp"
   ]
  },
  {
   "cell_type": "code",
   "execution_count": 5,
   "id": "faeeb721",
   "metadata": {},
   "outputs": [],
   "source": [
    "def insert_to_db(\n",
    "    sql_drop: str\n",
    "    , sql_create: str\n",
    "    , sql_insert: str\n",
    "    , df_ins: tp.Any\n",
    "    , con: tp.Any\n",
    "    , cur: tp.Any\n",
    ") -> str:\n",
    "    \"\"\"\n",
    "    UDF for creating tables and inserting data using sqlite3\n",
    "    \"\"\"\n",
    "    \n",
    "    #I've noticed SQLITE usually convert int data to blob type, so let's convert it\n",
    "    for i, column in enumerate(df_ins.columns):\n",
    "        if df_ins[column].dtype == 'int64':\n",
    "            df_ins[column] = df_ins[column].astype(object)\n",
    "    \n",
    "    #connection to db\n",
    "    with con:\n",
    "        try:\n",
    "            cur.execute(sql_drop)\n",
    "            cur.execute(sql_create)\n",
    "\n",
    "            #inserting data to table\n",
    "            for i in range(df_ins.shape[0]):\n",
    "                data = []\n",
    "                data.append(tuple(df_ins.loc[i]))            \n",
    "                cur.executemany(sql_insert, data)  \n",
    "\n",
    "        except sl.DatabaseError as err:       \n",
    "            return(\"Error: \", err)\n",
    "        else:\n",
    "            con.commit()\n",
    "    return(\"Data was successfully inserted\")"
   ]
  },
  {
   "cell_type": "code",
   "execution_count": 7,
   "id": "3705fa21",
   "metadata": {},
   "outputs": [
    {
     "data": {
      "text/plain": [
       "'Data was successfully inserted'"
      ]
     },
     "execution_count": 7,
     "metadata": {},
     "output_type": "execute_result"
    }
   ],
   "source": [
    "sql_drop = \"drop table if exists main_line;\"\n",
    "sql_create = \"\"\"\n",
    "            create table main_line\n",
    "            (\n",
    "            id integer not null primary key autoincrement\n",
    "            , year inet\n",
    "            , surname text\n",
    "            , name text\n",
    "            , patronymic text             \n",
    "            );\n",
    "            \"\"\"\n",
    "sql_insert = \"insert into main_line(surname, name, patronymic, year) values (?, ?, ?, ?);\"\n",
    "\n",
    "con = sl.connect('my_base.db')\n",
    "cur = con.cursor()\n",
    "\n",
    "df = pd.read_excel(\"db_dataset.xlsx\")\n",
    "\n",
    "insert_to_db(sql_drop, sql_create, sql_insert, df_ins = df, con = con, cur = cur)"
   ]
  },
  {
   "cell_type": "markdown",
   "id": "54c0c95e",
   "metadata": {},
   "source": [
    "# Bot"
   ]
  },
  {
   "cell_type": "markdown",
   "id": "1d404ece",
   "metadata": {},
   "source": [
    "The body which is run from prompt."
   ]
  },
  {
   "cell_type": "code",
   "execution_count": null,
   "id": "39b20632",
   "metadata": {},
   "outputs": [],
   "source": [
    "import sqlite3 as sl\n",
    "import pandas as pd\n",
    "import os\n",
    "from fuzzywuzzy import fuzz\n",
    "\n",
    "from aiogram import Bot, types\n",
    "from aiogram.dispatcher import Dispatcher\n",
    "from aiogram.utils import executor\n",
    "from random import randrange\n",
    "\n",
    "from config import TOKEN\n",
    "\n",
    "con = sl.connect('my_base.db')\n",
    "\n",
    "#target frame for finding\n",
    "df_out = pd.read_sql('''\n",
    "select * \n",
    "from main_line\n",
    "''', con)\n",
    "\n",
    "#divide input message by separate strings\n",
    "def partial_string(s):\n",
    "    indexes = []\n",
    "    indexes.append(0)\n",
    "    sub = []\n",
    "    string = []\n",
    "    i = 0\n",
    "    \n",
    "    if \"\\n\" in s:\n",
    "        \n",
    "        while i < len(s):\n",
    "\n",
    "            if s[i] != \"\\n\":\n",
    "                i = i + 1\n",
    "            else:\n",
    "                indexes.append(i)\n",
    "                string.append(s[indexes[-2]:indexes[-1]])\n",
    "                i = i + 1\n",
    "        \n",
    "        string.append(s[indexes[-1]:-1])\n",
    "\n",
    "    else:\n",
    "        string = s\n",
    "    \n",
    "    return string\n",
    "\n",
    "#find rows from target frame in input message\n",
    "def find(string, df_find):\n",
    "    final_result = []\n",
    "    new_string = []\n",
    "    \n",
    "    for i in range(len(string)):\n",
    "        new_string.append(string[i].replace(\" \", \"\").lower()) \n",
    "    \n",
    "    for j in range(df_find.shape[0]):\n",
    "\n",
    "        person_bef = str(df_find.at[j, \"surname\"]) + \" \" + str(df_find.at[j, \"name\"]) + \" \" + str(df_find.at[j, \"patronymic\"]) + \" \" + str(df_find.at[j, \"year\"])\n",
    "        \n",
    "        person = str(df_find.at[j, \"surname\"].lower()) + str(df_find.at[j, \"name\"].lower())\n",
    "        \n",
    "        for k in range(len(string)):\n",
    "            result = fuzz.partial_ratio(person, new_string[k])\n",
    "                \n",
    "            if result > 95:\n",
    "                final_result.append(person_bef + \": \" + (string[k])) \n",
    "            else:\n",
    "                continue\n",
    "\n",
    "    if len(final_result) == 0:\n",
    "        ret = \"\"\n",
    "    else:\n",
    "        \n",
    "        ret = final_result\n",
    "    return ret\n",
    "\n",
    "bot = Bot(token = TOKEN)\n",
    "dp = Dispatcher(bot)\n",
    "\n",
    "@dp.message_handler()\n",
    "async def echo_message(msg: types.Message):\n",
    "    await bot.send_message(msg.from_user.id, \"Processing...\")\n",
    "    await bot.send_message(msg.from_user.id, \"Matches found: \" + str(len(find(partial_string(msg.text), df_out))))\n",
    "    await bot.send_message(msg.from_user.id, find(partial_string(msg.text), df_out))\n",
    "    \n",
    "if __name__ == '__main__':\n",
    "    try:\n",
    "        executor.start_polling(dp)\n",
    "    except:\n",
    "        os._exit(0)"
   ]
  }
 ],
 "metadata": {
  "kernelspec": {
   "display_name": "Python 3",
   "language": "python",
   "name": "python3"
  },
  "language_info": {
   "codemirror_mode": {
    "name": "ipython",
    "version": 3
   },
   "file_extension": ".py",
   "mimetype": "text/x-python",
   "name": "python",
   "nbconvert_exporter": "python",
   "pygments_lexer": "ipython3",
   "version": "3.8.8"
  }
 },
 "nbformat": 4,
 "nbformat_minor": 5
}
